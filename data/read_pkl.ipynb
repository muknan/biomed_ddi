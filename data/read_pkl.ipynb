{
 "cells": [
  {
   "cell_type": "code",
   "execution_count": 9,
   "id": "68655c45",
   "metadata": {},
   "outputs": [
    {
     "name": "stdout",
     "output_type": "stream",
     "text": [
      "[[1.         0.09326425 0.1754386  ... 0.20454545 0.17898833 0.13705584]\n",
      " [0.09326425 1.         0.03603604 ... 0.05447471 0.05633803 0.09230769]\n",
      " [0.1754386  0.03603604 1.         ... 0.10810811 0.15642458 0.16363636]\n",
      " ...\n",
      " [0.20454545 0.05447471 0.10810811 ... 1.         0.15238095 0.08812261]\n",
      " [0.17898833 0.05633803 0.15642458 ... 0.15238095 1.         0.13986014]\n",
      " [0.13705584 0.09230769 0.16363636 ... 0.08812261 0.13986014 1.        ]]\n"
     ]
    }
   ],
   "source": [
    "import pandas as pd\n",
    "\n",
    "obj = pd.read_pickle(r'../data/structural_similarity_matrix.pkl')\n",
    "\n",
    "print (obj)"
   ]
  },
  {
   "cell_type": "code",
   "execution_count": 52,
   "id": "b3b4f294",
   "metadata": {
    "scrolled": true
   },
   "outputs": [
    {
     "name": "stdout",
     "output_type": "stream",
     "text": [
      "array([1.        , 0.92857143, 0.92857143, ..., 1.        , 0.89285714,\n",
      "       0.94642857])\n"
     ]
    }
   ],
   "source": [
    "import pandas as pd\n",
    "\n",
    "obj = pd.read_pickle(r'../data/GO_similarity_matrix.pkl')\n",
    "\n",
    "import pprint\n",
    "pprint.pprint(obj[0])"
   ]
  },
  {
   "cell_type": "code",
   "execution_count": null,
   "id": "fb4161f3",
   "metadata": {},
   "outputs": [],
   "source": []
  }
 ],
 "metadata": {
  "kernelspec": {
   "display_name": "biomed",
   "language": "python",
   "name": "biomed"
  },
  "language_info": {
   "codemirror_mode": {
    "name": "ipython",
    "version": 3
   },
   "file_extension": ".py",
   "mimetype": "text/x-python",
   "name": "python",
   "nbconvert_exporter": "python",
   "pygments_lexer": "ipython3",
   "version": "3.6.8"
  }
 },
 "nbformat": 4,
 "nbformat_minor": 5
}

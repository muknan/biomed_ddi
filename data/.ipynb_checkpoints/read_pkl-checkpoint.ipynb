{
 "cells": [
  {
   "cell_type": "code",
   "execution_count": 3,
   "id": "68655c45",
   "metadata": {},
   "outputs": [
    {
     "name": "stdout",
     "output_type": "stream",
     "text": [
      "{'DRUG_A can cause a decrease in the absorption of DRUG_B resulting in a reduced serum concentration and potentially a decrease in efficacy.': 0,\n",
      " 'DRUG_A can cause an increase in the absorption of DRUG_B resulting in an increased serum concentration and potentially a worsening of adverse effects.': 1,\n",
      " 'DRUG_A may decrease effectiveness of DRUG_B as a diagnostic agent.': 2,\n",
      " 'DRUG_A may decrease the analgesic activities of DRUG_B.': 3,\n",
      " 'DRUG_A may decrease the anticoagulant activities of DRUG_B.': 4,\n",
      " 'DRUG_A may decrease the antihypertensive activities of DRUG_B.': 5,\n",
      " 'DRUG_A may decrease the bronchodilatory activities of DRUG_B.': 6,\n",
      " 'DRUG_A may decrease the cardiotoxic activities of DRUG_B.': 7,\n",
      " 'DRUG_A may decrease the diuretic activities of DRUG_B.': 8,\n",
      " 'DRUG_A may decrease the excretion rate of DRUG_B which could result in a higher serum level.': 9,\n",
      " 'DRUG_A may decrease the neuromuscular blocking activities of DRUG_B.': 10,\n",
      " 'DRUG_A may decrease the sedative activities of DRUG_B.': 11,\n",
      " 'DRUG_A may decrease the stimulatory activities of DRUG_B.': 12,\n",
      " 'DRUG_A may decrease the vasoconstricting activities of DRUG_B.': 13,\n",
      " 'DRUG_A may increase the QTc-prolonging activities of DRUG_B.': 14,\n",
      " 'DRUG_A may increase the adverse neuromuscular activities of DRUG_B.': 15,\n",
      " 'DRUG_A may increase the analgesic activities of DRUG_B.': 16,\n",
      " 'DRUG_A may increase the anticholinergic activities of DRUG_B.': 17,\n",
      " 'DRUG_A may increase the anticoagulant activities of DRUG_B.': 18,\n",
      " 'DRUG_A may increase the antihypertensive activities of DRUG_B.': 19,\n",
      " 'DRUG_A may increase the antiplatelet activities of DRUG_B.': 20,\n",
      " 'DRUG_A may increase the antipsychotic activities of DRUG_B.': 21,\n",
      " 'DRUG_A may increase the arrhythmogenic activities of DRUG_B.': 22,\n",
      " 'DRUG_A may increase the atrioventricular blocking (AV block) activities of DRUG_B.': 23,\n",
      " 'DRUG_A may increase the bradycardic activities of DRUG_B.': 24,\n",
      " 'DRUG_A may increase the bronchoconstrictory activities of DRUG_B.': 25,\n",
      " 'DRUG_A may increase the cardiotoxic activities of DRUG_B.': 26,\n",
      " 'DRUG_A may increase the central nervous system depressant (CNS depressant) activities of DRUG_B.': 27,\n",
      " 'DRUG_A may increase the central nervous system depressant (CNS depressant) and hypertensive activities of DRUG_B.': 28,\n",
      " 'DRUG_A may increase the central neurotoxic activities of DRUG_B.': 29,\n",
      " 'DRUG_A may increase the constipating activities of DRUG_B.': 30,\n",
      " 'DRUG_A may increase the excretion rate of DRUG_B which could result in a lower serum level and potentially a reduction in efficacy.': 31,\n",
      " 'DRUG_A may increase the fluid retaining activities of DRUG_B.': 32,\n",
      " 'DRUG_A may increase the hepatotoxic activities of DRUG_B.': 33,\n",
      " 'DRUG_A may increase the hypercalcemic activities of DRUG_B.': 34,\n",
      " 'DRUG_A may increase the hyperglycemic activities of DRUG_B.': 35,\n",
      " 'DRUG_A may increase the hyperkalemic activities of DRUG_B.': 36,\n",
      " 'DRUG_A may increase the hypertensive activities of DRUG_B.': 37,\n",
      " 'DRUG_A may increase the hypertensive and vasoconstricting activities of DRUG_B.': 38,\n",
      " 'DRUG_A may increase the hypocalcemic activities of DRUG_B.': 39,\n",
      " 'DRUG_A may increase the hypoglycemic activities of DRUG_B.': 40,\n",
      " 'DRUG_A may increase the hypokalemic activities of DRUG_B.': 41,\n",
      " 'DRUG_A may increase the hyponatremic activities of DRUG_B.': 42,\n",
      " 'DRUG_A may increase the hypotensive activities of DRUG_B.': 43,\n",
      " 'DRUG_A may increase the hypotensive and central nervous system depressant (CNS depressant) activities of DRUG_B.': 44,\n",
      " 'DRUG_A may increase the hypotensive, nephrotoxic, and hyperkalemic activities of DRUG_B.': 45,\n",
      " 'DRUG_A may increase the immunosuppressive activities of DRUG_B.': 46,\n",
      " 'DRUG_A may increase the myelosuppressive activities of DRUG_B.': 47,\n",
      " 'DRUG_A may increase the myopathic rhabdomyolysis activities of DRUG_B.': 48,\n",
      " 'DRUG_A may increase the nephrotoxic activities of DRUG_B.': 49,\n",
      " 'DRUG_A may increase the neuroexcitatory activities of DRUG_B.': 50,\n",
      " 'DRUG_A may increase the neuromuscular blocking activities of DRUG_B.': 51,\n",
      " 'DRUG_A may increase the neurotoxic activities of DRUG_B.': 52,\n",
      " 'DRUG_A may increase the orthostatic hypotensive activities of DRUG_B.': 53,\n",
      " 'DRUG_A may increase the respiratory depressant activities of DRUG_B.': 54,\n",
      " 'DRUG_A may increase the sedative activities of DRUG_B.': 55,\n",
      " 'DRUG_A may increase the serotonergic activities of DRUG_B.': 56,\n",
      " 'DRUG_A may increase the stimulatory activities of DRUG_B.': 57,\n",
      " 'DRUG_A may increase the tachycardic activities of DRUG_B.': 58,\n",
      " 'DRUG_A may increase the thrombogenic activities of DRUG_B.': 59,\n",
      " 'DRUG_A may increase the ulcerogenic activities of DRUG_B.': 60,\n",
      " 'DRUG_A may increase the vasoconstricting activities of DRUG_B.': 61,\n",
      " 'DRUG_A may increase the vasodilatory activities of DRUG_B.': 62,\n",
      " 'DRUG_A may increase the vasopressor activities of DRUG_B.': 63,\n",
      " 'The absorption of DRUG_A can be decreased when combined with DRUG_B.': 64,\n",
      " 'The bioavailability of DRUG_A can be decreased when combined with DRUG_B.': 65,\n",
      " 'The bioavailability of DRUG_A can be increased when combined with DRUG_B.': 66,\n",
      " 'The excretion of DRUG_A can be decreased when combined with DRUG_B.': 67,\n",
      " 'The metabolism of DRUG_A can be decreased when combined with DRUG_B.': 68,\n",
      " 'The metabolism of DRUG_A can be increased when combined with DRUG_B.': 69,\n",
      " 'The protein binding of DRUG_A can be decreased when combined with DRUG_B.': 70,\n",
      " 'The risk of a hypersensitivity reaction to DRUG_A is increased when it is combined with DRUG_B.': 71,\n",
      " 'The risk or severity of QTc prolongation can be increased when DRUG_A is combined with DRUG_B.': 72,\n",
      " 'The risk or severity of adverse effects can be increased when DRUG_A is combined with DRUG_B.': 73,\n",
      " 'The risk or severity of anemia and severe leukopenia can be increased when DRUG_A is combined with DRUG_B.': 74,\n",
      " 'The risk or severity of angioedema can be increased when DRUG_A is combined with DRUG_B.': 75,\n",
      " 'The risk or severity of bleeding can be increased when DRUG_A is combined with DRUG_B.': 76,\n",
      " 'The risk or severity of congestive heart failure and hypotension can be increased when DRUG_A is combined with DRUG_B.': 77,\n",
      " 'The risk or severity of convulsion can be increased when DRUG_A is combined with DRUG_B.': 78,\n",
      " 'The risk or severity of edema formation can be increased when DRUG_A is combined with DRUG_B.': 79,\n",
      " 'The risk or severity of heart failure can be increased when DRUG_A is combined with DRUG_B.': 80,\n",
      " 'The risk or severity of hyperkalemia can be increased when DRUG_A is combined with DRUG_B.': 81,\n",
      " 'The risk or severity of hypertension can be increased when DRUG_A is combined with DRUG_B.': 82,\n",
      " 'The risk or severity of hypokalemia can be increased when DRUG_A is combined with DRUG_B.': 83,\n",
      " 'The risk or severity of hyponatremia can be increased when DRUG_A is combined with DRUG_B.': 84,\n",
      " 'The risk or severity of hypotension and neuromuscular blockade can be increased when DRUG_A is combined with DRUG_B.': 85,\n",
      " 'The risk or severity of hypotension can be increased when DRUG_A is combined with DRUG_B.': 86,\n",
      " 'The risk or severity of hypotension, conduction block, and bradycardia can be increased when DRUG_A is combined with DRUG_B.': 87,\n",
      " 'The risk or severity of myelosuppression can be increased when DRUG_A is combined with DRUG_B.': 88,\n",
      " 'The risk or severity of myopathy and rhabdomyolysis can be increased when DRUG_A is combined with DRUG_B.': 89,\n",
      " 'The risk or severity of myopathy, rhabdomyolysis, and myoglobinuria can be increased when DRUG_A is combined with DRUG_B.': 90,\n",
      " 'The risk or severity of ototoxicity and nephrotoxicity can be increased when DRUG_A is combined with DRUG_B.': 91,\n",
      " 'The risk or severity of renal failure and hyperkalemia can be increased when DRUG_A is combined with DRUG_B.': 92,\n",
      " 'The risk or severity of rhabdomyolysis can be increased when DRUG_A is combined with DRUG_B.': 93,\n",
      " 'The risk or severity of rhabdomyolysis, myoglobinuria, and elevated creatine kinase (CPK) can be increased when DRUG_A is combined with DRUG_B.': 94,\n",
      " 'The risk or severity of sedation and somnolence can be increased when DRUG_A is combined with DRUG_B.': 95,\n",
      " 'The risk or severity of serotonin syndrome can be increased when DRUG_A is combined with DRUG_B.': 96,\n",
      " 'The risk or severity of severe leukopenia can be increased when DRUG_A is combined with DRUG_B.': 97,\n",
      " 'The risk or severity of ventricular arrhythmias can be increased when DRUG_A is combined with DRUG_B.': 98,\n",
      " 'The serum concentration of DRUG_A can be decreased when it is combined with DRUG_B.': 99,\n",
      " 'The serum concentration of DRUG_A can be increased when it is combined with DRUG_B.': 100,\n",
      " 'The serum concentration of SN-38, an active metabolite of DRUG_A, can be increased when used in combination with DRUG_B.': 101,\n",
      " 'The serum concentration of the active metabolites of DRUG_A can be increased when DRUG_A is used in combination with DRUG_B.': 102,\n",
      " 'The serum concentration of the active metabolites of DRUG_A can be reduced when DRUG_A is used in combination with DRUG_B resulting in a loss in efficacy.': 103,\n",
      " 'The therapeutic efficacy of DRUG_A can be decreased when used in combination with DRUG_B.': 104,\n",
      " 'The therapeutic efficacy of DRUG_A can be increased when used in combination with DRUG_B.': 105}\n"
     ]
    }
   ],
   "source": [
    "import pandas as pd\n",
    "\n",
    "obj = pd.read_pickle(r'../data/effect2idx.pkl')\n",
    "\n",
    "import pprint\n",
    "pprint.pprint(obj)"
   ]
  },
  {
   "cell_type": "code",
   "execution_count": 52,
   "id": "b3b4f294",
   "metadata": {
    "scrolled": true
   },
   "outputs": [
    {
     "name": "stdout",
     "output_type": "stream",
     "text": [
      "array([1.        , 0.92857143, 0.92857143, ..., 1.        , 0.89285714,\n",
      "       0.94642857])\n"
     ]
    }
   ],
   "source": [
    "import pandas as pd\n",
    "\n",
    "obj = pd.read_pickle(r'../data/GO_similarity_matrix.pkl')\n",
    "\n",
    "import pprint\n",
    "pprint.pprint(obj[0])"
   ]
  },
  {
   "cell_type": "code",
   "execution_count": null,
   "id": "fb4161f3",
   "metadata": {},
   "outputs": [],
   "source": []
  }
 ],
 "metadata": {
  "kernelspec": {
   "display_name": "biomed",
   "language": "python",
   "name": "biomed"
  },
  "language_info": {
   "codemirror_mode": {
    "name": "ipython",
    "version": 3
   },
   "file_extension": ".py",
   "mimetype": "text/x-python",
   "name": "python",
   "nbconvert_exporter": "python",
   "pygments_lexer": "ipython3",
   "version": "3.6.8"
  }
 },
 "nbformat": 4,
 "nbformat_minor": 5
}

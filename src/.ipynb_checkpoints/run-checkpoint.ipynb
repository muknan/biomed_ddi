{
 "cells": [
  {
   "cell_type": "code",
   "execution_count": 1,
   "id": "e7ff2b83",
   "metadata": {},
   "outputs": [
    {
     "ename": "NameError",
     "evalue": "name 'a' is not defined",
     "output_type": "error",
     "traceback": [
      "\u001b[1;31m---------------------------------------------------------------------------\u001b[0m",
      "\u001b[1;31mNameError\u001b[0m                                 Traceback (most recent call last)",
      "\u001b[1;32m<ipython-input-1-734169e46121>\u001b[0m in \u001b[0;36m<module>\u001b[1;34m\u001b[0m\n\u001b[0;32m     29\u001b[0m \u001b[0mx_idx\u001b[0m\u001b[1;33m,\u001b[0m \u001b[0my_idx\u001b[0m \u001b[1;33m=\u001b[0m \u001b[0mnp\u001b[0m\u001b[1;33m.\u001b[0m\u001b[0marray\u001b[0m\u001b[1;33m(\u001b[0m\u001b[0mx_idx\u001b[0m\u001b[1;33m)\u001b[0m\u001b[1;33m,\u001b[0m \u001b[0mnp\u001b[0m\u001b[1;33m.\u001b[0m\u001b[0marray\u001b[0m\u001b[1;33m(\u001b[0m\u001b[0my_idx\u001b[0m\u001b[1;33m)\u001b[0m\u001b[1;33m\u001b[0m\u001b[1;33m\u001b[0m\u001b[0m\n\u001b[0;32m     30\u001b[0m \u001b[1;33m\u001b[0m\u001b[0m\n\u001b[1;32m---> 31\u001b[1;33m \u001b[1;32mwith\u001b[0m \u001b[0mopen\u001b[0m\u001b[1;33m(\u001b[0m\u001b[0ma\u001b[0m\u001b[1;33m)\u001b[0m \u001b[1;32mas\u001b[0m \u001b[0mfp\u001b[0m\u001b[1;33m:\u001b[0m\u001b[1;33m\u001b[0m\u001b[1;33m\u001b[0m\u001b[0m\n\u001b[0m\u001b[0;32m     32\u001b[0m     \u001b[0mhparam\u001b[0m \u001b[1;33m=\u001b[0m \u001b[0mjson\u001b[0m\u001b[1;33m.\u001b[0m\u001b[0mload\u001b[0m\u001b[1;33m(\u001b[0m\u001b[0mfp\u001b[0m\u001b[1;33m)\u001b[0m\u001b[1;33m\u001b[0m\u001b[1;33m\u001b[0m\u001b[0m\n\u001b[0;32m     33\u001b[0m \u001b[1;33m\u001b[0m\u001b[0m\n",
      "\u001b[1;31mNameError\u001b[0m: name 'a' is not defined"
     ]
    }
   ],
   "source": [
    "import torch\n",
    "import torch.nn as nn\n",
    "import numpy as np\n",
    "import pandas as pd\n",
    "from sklearn.model_selection import RepeatedStratifiedKFold\n",
    "import json\n",
    "import os\n",
    "\n",
    "from model import build_model\n",
    "from utils import index_data, convert_tensor\n",
    "temp = os.cwd\n",
    "for root, dirs, files in os.walk(temp):\n",
    "    for file in files:\n",
    "        if file.endswith(\".json\"):\n",
    "            a=os.path.join(root, file)\n",
    "\n",
    "SS_mat = pd.read_pickle('../data/structural_similarity_matrix.pkl')\n",
    "TS_mat = pd.read_pickle('../data/target_similarity_matrix.pkl')\n",
    "GS_mat = pd.read_pickle('../data/GO_similarity_matrix.pkl')\n",
    "\n",
    "mlb, _, idx2label, drugPair2effectIdx = index_data()\n",
    "pd.to_pickle(mlb, '../data/mlb.pkl')\n",
    "pd.to_pickle(idx2label, '../data/idx2label.pkl')\n",
    "    \n",
    "x_idx = []\n",
    "y_idx = []\n",
    "for k, v in drugPair2effectIdx.items():\n",
    "    x_idx.append(k)\n",
    "    y_idx.append(v)\n",
    "x_idx, y_idx = np.array(x_idx), np.array(y_idx)\n",
    "\n",
    "with open(a) as fp:\n",
    "    hparam = json.load(fp)\n",
    "\n",
    "kf = RepeatedStratifiedKFold(n_splits=hparam['n_splits'], n_repeats=hparam['n_repeats'], random_state=2022)\n",
    "device = torch.device(\"cuda\" if torch.cuda.is_available() else \"cpu\")\n",
    "\n",
    "for i, (train_idx, test_idx) in enumerate(kf.split(x_idx, y_idx)):    \n",
    "    x_train = x_idx[train_idx]\n",
    "    y_train = y_idx[train_idx]    \n",
    "    \n",
    "    SS, TS, GS, y = convert_tensor(x_train, y_train, SS_mat, TS_mat, GS_mat, mlb, idx2label)\n",
    "    dataset = torch.utils.data.TensorDataset(SS, TS, GS, y)\n",
    "    dataloader = torch.utils.data.DataLoader(dataset, batch_size=512, shuffle=True)\n",
    "    \n",
    "    model = build_model(hparam)\n",
    "    model.to(device)\n",
    "    model.fit(dataloader, i)\n",
    "        \n",
    "    x_test = x_idx[test_idxt]\n",
    "    y_test = y_idx[test_idx]\n",
    "    pd.to_pickle([x_test, y_test], '../savepoints/0/test_data.pkl')\n",
    "    del x_test, y_test\n",
    "    "
   ]
  },
  {
   "cell_type": "code",
   "execution_count": 20,
   "id": "54802e9f",
   "metadata": {},
   "outputs": [],
   "source": [
    "import os\n",
    "\n",
    "from model import build_model\n",
    "from utils import index_data, convert_tensor\n",
    "for root, dirs, files in os.walk(\"\"):\n",
    "    for file in files:\n",
    "        if file.endswith(\".json\"):\n",
    "            print(os.path.join(root, file))\n",
    "            print(\"abc\")"
   ]
  },
  {
   "cell_type": "code",
   "execution_count": 6,
   "id": "78b8153c",
   "metadata": {},
   "outputs": [
    {
     "ename": "NameError",
     "evalue": "name 'a' is not defined",
     "output_type": "error",
     "traceback": [
      "\u001b[1;31m---------------------------------------------------------------------------\u001b[0m",
      "\u001b[1;31mNameError\u001b[0m                                 Traceback (most recent call last)",
      "\u001b[1;32m<ipython-input-6-bca0e2660b9f>\u001b[0m in \u001b[0;36m<module>\u001b[1;34m\u001b[0m\n\u001b[1;32m----> 1\u001b[1;33m \u001b[0mprint\u001b[0m\u001b[1;33m(\u001b[0m\u001b[0ma\u001b[0m\u001b[1;33m)\u001b[0m\u001b[1;33m\u001b[0m\u001b[1;33m\u001b[0m\u001b[0m\n\u001b[0m",
      "\u001b[1;31mNameError\u001b[0m: name 'a' is not defined"
     ]
    }
   ],
   "source": [
    "print(a)"
   ]
  },
  {
   "cell_type": "code",
   "execution_count": null,
   "id": "255901ae",
   "metadata": {},
   "outputs": [],
   "source": []
  }
 ],
 "metadata": {
  "kernelspec": {
   "display_name": "biomed_final6",
   "language": "python",
   "name": "biomed_final6"
  },
  "language_info": {
   "codemirror_mode": {
    "name": "ipython",
    "version": 3
   },
   "file_extension": ".py",
   "mimetype": "text/x-python",
   "name": "python",
   "nbconvert_exporter": "python",
   "pygments_lexer": "ipython3",
   "version": "3.6.8"
  }
 },
 "nbformat": 4,
 "nbformat_minor": 5
}

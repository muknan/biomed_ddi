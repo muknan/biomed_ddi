{
 "cells": [
  {
   "cell_type": "code",
   "execution_count": null,
   "id": "e7ff2b83",
   "metadata": {},
   "outputs": [
    {
     "name": "stdout",
     "output_type": "stream",
     "text": [
      "Repeat 1/4  Epoch 1/5  Iter 50/184 \n",
      " Loss:  DNN 0.268435  SSP 0.010932  TSP 0.023417  GSP 0.008839\n",
      "\n",
      "Repeat 1/4  Epoch 1/5  Iter 100/184 \n",
      " Loss:  DNN 0.164855  SSP 0.007438  TSP 0.017048  GSP 0.004798\n",
      "\n",
      "Repeat 1/4  Epoch 1/5  Iter 150/184 \n",
      " Loss:  DNN 0.125211  SSP 0.005998  TSP 0.014590  GSP 0.003412\n",
      "\n",
      "Repeat 1/4  Epoch 1/5  Iter 184/184 \n",
      " Loss:  DNN 0.109684  SSP 0.005396  TSP 0.013506  GSP 0.002869\n",
      "\n",
      "Repeat 1/4  Epoch 2/5  Iter 50/184 \n",
      " Loss:  DNN 0.038664  SSP 0.002580  TSP 0.008204  GSP 0.000419\n",
      "\n"
     ]
    }
   ],
   "source": [
    "import torch\n",
    "import torch.nn as nn\n",
    "import numpy as np\n",
    "import pandas as pd\n",
    "from sklearn.model_selection import RepeatedStratifiedKFold\n",
    "import json\n",
    "import os\n",
    "\n",
    "from model import build_model\n",
    "from utils import index_data, convert_tensor\n",
    "\n",
    "SS_mat = pd.read_pickle('../data/structural_similarity_matrix.pkl')\n",
    "TS_mat = pd.read_pickle('../data/target_similarity_matrix.pkl')\n",
    "GS_mat = pd.read_pickle('../data/GO_similarity_matrix.pkl')\n",
    "\n",
    "mlb, _, idx2label, drugPair2effectIdx = index_data()\n",
    "pd.to_pickle(mlb, '../data/mlb.pkl')\n",
    "pd.to_pickle(idx2label, '../data/idx2label.pkl')\n",
    "    \n",
    "x_idx = []\n",
    "y_idx = []\n",
    "for k, v in drugPair2effectIdx.items():\n",
    "    x_idx.append(k)\n",
    "    y_idx.append(v)\n",
    "x_idx, y_idx = np.array(x_idx), np.array(y_idx)\n",
    "\n",
    "with open('./hyperparameter.json') as fp:\n",
    "    hparam = json.load(fp)\n",
    "\n",
    "kf = RepeatedStratifiedKFold(n_splits=hparam['n_splits'], n_repeats=hparam['n_repeats'], random_state=2022)\n",
    "device = torch.device(\"cuda\" if torch.cuda.is_available() else \"cpu\")\n",
    "\n",
    "for i, (train_idx, test_idx) in enumerate(kf.split(x_idx, y_idx)):    \n",
    "    x_train = x_idx[train_idx]\n",
    "    y_train = y_idx[train_idx]    \n",
    "    \n",
    "    SS, TS, GS, y = convert_tensor(x_train, y_train, SS_mat, TS_mat, GS_mat, mlb, idx2label)\n",
    "    dataset = torch.utils.data.TensorDataset(SS, TS, GS, y)\n",
    "    dataloader = torch.utils.data.DataLoader(dataset, batch_size=512, shuffle=True)\n",
    "    \n",
    "    model = build_model(hparam)\n",
    "    model.to(device)\n",
    "    model.fit(dataloader, i)\n",
    "        \n",
    "    x_test = x_idx[test_idxt]\n",
    "    y_test = y_idx[test_idx]\n",
    "    pd.to_pickle([x_test, y_test], '../savepoints/0/test_data.pkl')\n",
    "    del x_test, y_test\n",
    "    "
   ]
  }
 ],
 "metadata": {
  "kernelspec": {
   "display_name": "biomed_final6",
   "language": "python",
   "name": "biomed_final6"
  },
  "language_info": {
   "codemirror_mode": {
    "name": "ipython",
    "version": 3
   },
   "file_extension": ".py",
   "mimetype": "text/x-python",
   "name": "python",
   "nbconvert_exporter": "python",
   "pygments_lexer": "ipython3",
   "version": "3.6.8"
  }
 },
 "nbformat": 4,
 "nbformat_minor": 5
}

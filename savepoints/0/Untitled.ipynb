{
 "cells": [
  {
   "cell_type": "code",
   "execution_count": 4,
   "id": "1f0fb9d6",
   "metadata": {},
   "outputs": [
    {
     "name": "stdout",
     "output_type": "stream",
     "text": [
      "[array([[ 840,  771],\n",
      "       [ 215, 1516],\n",
      "       [ 950,  740],\n",
      "       ...,\n",
      "       [ 237, 1225],\n",
      "       [1490,  730],\n",
      "       [1401, 1490]]),\n",
      " array([112, 112, 112, ...,  30,  30,  30])]\n"
     ]
    }
   ],
   "source": [
    "import pandas as pd\n",
    "\n",
    "obj = pd.read_pickle(r'test_data.pkl')\n",
    "\n",
    "import pprint\n",
    "pprint.pprint(obj)"
   ]
  },
  {
   "cell_type": "code",
   "execution_count": null,
   "id": "48dd3623",
   "metadata": {},
   "outputs": [],
   "source": []
  },
  {
   "cell_type": "code",
   "execution_count": null,
   "id": "eab09e9d",
   "metadata": {},
   "outputs": [],
   "source": []
  }
 ],
 "metadata": {
  "kernelspec": {
   "display_name": "biomed",
   "language": "python",
   "name": "biomed"
  },
  "language_info": {
   "codemirror_mode": {
    "name": "ipython",
    "version": 3
   },
   "file_extension": ".py",
   "mimetype": "text/x-python",
   "name": "python",
   "nbconvert_exporter": "python",
   "pygments_lexer": "ipython3",
   "version": "3.6.8"
  }
 },
 "nbformat": 4,
 "nbformat_minor": 5
}

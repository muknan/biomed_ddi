{
 "cells": [
  {
   "cell_type": "code",
   "execution_count": 1,
   "metadata": {},
   "outputs": [],
   "source": [
    "import pandas as pd\n",
    "from openbabel import pybel"
   ]
  },
  {
   "cell_type": "code",
   "execution_count": 2,
   "metadata": {},
   "outputs": [],
   "source": [
    "drugName2smiles = pd.read_pickle('./data/example.pkl')"
   ]
  },
  {
   "cell_type": "code",
   "execution_count": 7,
   "metadata": {},
   "outputs": [
    {
     "name": "stdout",
     "output_type": "stream",
     "text": [
      "{'Panobinostat': '[H]\\\\C(=C(\\\\[H])C1=CC=C(CNCCC2=C(C)NC3=CC=CC=C23)C=C1)C(O)=NO', 'Sorafenib': 'CNC(=O)C1=NC=CC(OC2=CC=C(NC(=O)NC3=CC(=C(Cl)C=C3)C(F)(F)F)C=C2)=C1', 'Pyridostigmine': 'CN(C)C(=O)OC1=C[N+](C)=CC=C1', 'Tofacitinib': '[H][C@@]1(C)CCN(C[C@]1([H])N(C)C1=NC=NC2=C1C=CN2)C(=O)CC#N', 'Nylidrin': 'CC(CCC1=CC=CC=C1)NC(C)C(O)C1=CC=C(O)C=C1'}\n"
     ]
    }
   ],
   "source": [
    "import pandas as pd\n",
    "obj = pd.read_pickle(r'./data/example.pkl')\n",
    "\n",
    "print (obj)"
   ]
  },
  {
   "cell_type": "code",
   "execution_count": 6,
   "metadata": {},
   "outputs": [
    {
     "ename": "NameError",
     "evalue": "name 'drugName2smiles' is not defined",
     "output_type": "error",
     "traceback": [
      "\u001b[1;31m---------------------------------------------------------------------------\u001b[0m",
      "\u001b[1;31mNameError\u001b[0m                                 Traceback (most recent call last)",
      "\u001b[1;32m<ipython-input-6-65baeffc83a1>\u001b[0m in \u001b[0;36m<module>\u001b[1;34m\u001b[0m\n\u001b[0;32m      1\u001b[0m \u001b[0mdrugName2fp\u001b[0m \u001b[1;33m=\u001b[0m \u001b[1;33m{\u001b[0m\u001b[1;33m}\u001b[0m\u001b[1;33m\u001b[0m\u001b[1;33m\u001b[0m\u001b[0m\n\u001b[1;32m----> 2\u001b[1;33m \u001b[1;32mfor\u001b[0m \u001b[0mdrug\u001b[0m\u001b[1;33m,\u001b[0m \u001b[0msmiles\u001b[0m \u001b[1;32min\u001b[0m \u001b[0mdrugName2smiles\u001b[0m\u001b[1;33m.\u001b[0m\u001b[0mitems\u001b[0m\u001b[1;33m(\u001b[0m\u001b[1;33m)\u001b[0m\u001b[1;33m:\u001b[0m\u001b[1;33m\u001b[0m\u001b[1;33m\u001b[0m\u001b[0m\n\u001b[0m\u001b[0;32m      3\u001b[0m     \u001b[0mmol\u001b[0m \u001b[1;33m=\u001b[0m \u001b[0mpybel\u001b[0m\u001b[1;33m.\u001b[0m\u001b[0mreadstring\u001b[0m\u001b[1;33m(\u001b[0m\u001b[1;34m'smi'\u001b[0m\u001b[1;33m,\u001b[0m \u001b[0msmiles\u001b[0m\u001b[1;33m)\u001b[0m\u001b[1;33m\u001b[0m\u001b[1;33m\u001b[0m\u001b[0m\n\u001b[0;32m      4\u001b[0m     \u001b[0mfp\u001b[0m \u001b[1;33m=\u001b[0m \u001b[0mmol\u001b[0m\u001b[1;33m.\u001b[0m\u001b[0mcalcfp\u001b[0m\u001b[1;33m(\u001b[0m\u001b[1;33m)\u001b[0m \u001b[1;31m# convert SMILES to fingerprint\u001b[0m\u001b[1;33m\u001b[0m\u001b[1;33m\u001b[0m\u001b[0m\n\u001b[0;32m      5\u001b[0m     \u001b[0mdrugName2fp\u001b[0m\u001b[1;33m[\u001b[0m\u001b[0mdrug\u001b[0m\u001b[1;33m]\u001b[0m \u001b[1;33m=\u001b[0m \u001b[0mfp\u001b[0m\u001b[1;33m\u001b[0m\u001b[1;33m\u001b[0m\u001b[0m\n",
      "\u001b[1;31mNameError\u001b[0m: name 'drugName2smiles' is not defined"
     ]
    }
   ],
   "source": [
    "drugName2fp = {}\n",
    "for drug, smiles in drugName2smiles.items():\n",
    "    mol = pybel.readstring('smi', smiles)\n",
    "    fp = mol.calcfp() # convert SMILES to fingerprint\n",
    "    drugName2fp[drug] = fp"
   ]
  },
  {
   "cell_type": "code",
   "execution_count": 4,
   "metadata": {},
   "outputs": [],
   "source": [
    "all_drugs = list(drugName2smiles.keys())\n",
    "drugPair2SS = {}\n",
    "for i, drug1 in enumerate(all_drugs):\n",
    "    for drug2 in all_drugs[i:]:\n",
    "        fp1 = drugName2fp[drug1]\n",
    "        fp2 = drugName2fp[drug2]        \n",
    "        sim = fp1 | fp2 # calculate tanimoto coefficient\n",
    "        drugPair2SS[(drug1, drug2)] = sim\n",
    "        drugPair2SS[(drug2, drug1)] = sim"
   ]
  },
  {
   "cell_type": "code",
   "execution_count": 5,
   "metadata": {},
   "outputs": [
    {
     "name": "stdout",
     "output_type": "stream",
     "text": [
      "{('Panobinostat', 'Panobinostat'): 1.0, ('Panobinostat', 'Sorafenib'): 0.26373626373626374, ('Sorafenib', 'Panobinostat'): 0.26373626373626374, ('Panobinostat', 'Pyridostigmine'): 0.16556291390728478, ('Pyridostigmine', 'Panobinostat'): 0.16556291390728478, ('Panobinostat', 'Tofacitinib'): 0.18681318681318682, ('Tofacitinib', 'Panobinostat'): 0.18681318681318682, ('Panobinostat', 'Nylidrin'): 0.2740740740740741, ('Nylidrin', 'Panobinostat'): 0.2740740740740741, ('Sorafenib', 'Sorafenib'): 1.0, ('Sorafenib', 'Pyridostigmine'): 0.24, ('Pyridostigmine', 'Sorafenib'): 0.24, ('Sorafenib', 'Tofacitinib'): 0.18324607329842932, ('Tofacitinib', 'Sorafenib'): 0.18324607329842932, ('Sorafenib', 'Nylidrin'): 0.16666666666666666, ('Nylidrin', 'Sorafenib'): 0.16666666666666666, ('Pyridostigmine', 'Pyridostigmine'): 1.0, ('Pyridostigmine', 'Tofacitinib'): 0.17006802721088435, ('Tofacitinib', 'Pyridostigmine'): 0.17006802721088435, ('Pyridostigmine', 'Nylidrin'): 0.13274336283185842, ('Nylidrin', 'Pyridostigmine'): 0.13274336283185842, ('Tofacitinib', 'Tofacitinib'): 1.0, ('Tofacitinib', 'Nylidrin'): 0.19148936170212766, ('Nylidrin', 'Tofacitinib'): 0.19148936170212766, ('Nylidrin', 'Nylidrin'): 1.0}\n",
      "\n"
     ]
    }
   ],
   "source": [
    "a = str(drugPair2SS)\n",
    "print(a+'\\n')"
   ]
  },
  {
   "cell_type": "code",
   "execution_count": 6,
   "metadata": {},
   "outputs": [
    {
     "name": "stdout",
     "output_type": "stream",
     "text": [
      "['Panobinostat', 'Sorafenib', 'Pyridostigmine', 'Tofacitinib', 'Nylidrin']\n"
     ]
    }
   ],
   "source": [
    "print(all_drugs)"
   ]
  },
  {
   "cell_type": "code",
   "execution_count": null,
   "metadata": {},
   "outputs": [],
   "source": []
  },
  {
   "cell_type": "code",
   "execution_count": null,
   "metadata": {},
   "outputs": [],
   "source": []
  }
 ],
 "metadata": {
  "kernelspec": {
   "display_name": "biomed",
   "language": "python",
   "name": "biomed"
  },
  "language_info": {
   "codemirror_mode": {
    "name": "ipython",
    "version": 3
   },
   "file_extension": ".py",
   "mimetype": "text/x-python",
   "name": "python",
   "nbconvert_exporter": "python",
   "pygments_lexer": "ipython3",
   "version": "3.6.8"
  }
 },
 "nbformat": 4,
 "nbformat_minor": 4
}
